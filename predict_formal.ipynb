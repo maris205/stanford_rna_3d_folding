{
 "cells": [
  {
   "cell_type": "code",
   "execution_count": 4,
   "id": "e4a2c9fb-f7c6-4d86-8910-97e363c37917",
   "metadata": {},
   "outputs": [
    {
     "name": "stdout",
     "output_type": "stream",
     "text": [
      "https://hf-mirror.com\n"
     ]
    }
   ],
   "source": [
    "import os\n",
    "\n",
    "# 设置环境变量\n",
    "os.environ['HF_ENDPOINT'] = 'https://hf-mirror.com'\n",
    "\n",
    "# 打印环境变量以确认设置成功\n",
    "print(os.environ.get('HF_ENDPOINT'))"
   ]
  },
  {
   "cell_type": "code",
   "execution_count": 5,
   "id": "cb87c59d-5c2f-49ff-9fd4-43970854e884",
   "metadata": {},
   "outputs": [
    {
     "name": "stderr",
     "output_type": "stream",
     "text": [
      "2025-03-08 21:39:21.221333: I tensorflow/core/util/port.cc:153] oneDNN custom operations are on. You may see slightly different numerical results due to floating-point round-off errors from different computation orders. To turn them off, set the environment variable `TF_ENABLE_ONEDNN_OPTS=0`.\n",
      "2025-03-08 21:39:21.234451: E external/local_xla/xla/stream_executor/cuda/cuda_fft.cc:485] Unable to register cuFFT factory: Attempting to register factory for plugin cuFFT when one has already been registered\n",
      "2025-03-08 21:39:21.249804: E external/local_xla/xla/stream_executor/cuda/cuda_dnn.cc:8454] Unable to register cuDNN factory: Attempting to register factory for plugin cuDNN when one has already been registered\n",
      "2025-03-08 21:39:21.254488: E external/local_xla/xla/stream_executor/cuda/cuda_blas.cc:1452] Unable to register cuBLAS factory: Attempting to register factory for plugin cuBLAS when one has already been registered\n",
      "2025-03-08 21:39:21.266225: I tensorflow/core/platform/cpu_feature_guard.cc:210] This TensorFlow binary is optimized to use available CPU instructions in performance-critical operations.\n",
      "To enable the following instructions: AVX2 AVX512F AVX512_VNNI AVX512_BF16 FMA, in other operations, rebuild TensorFlow with the appropriate compiler flags.\n",
      "2025-03-08 21:39:22.236288: W tensorflow/compiler/tf2tensorrt/utils/py_utils.cc:38] TF-TRT Warning: Could not find TensorRT\n"
     ]
    }
   ],
   "source": [
    "import pandas as pd\n",
    "from transformers import AutoModel, AutoTokenizer, Trainer, TrainingArguments\n",
    "import torch\n",
    "import torch.nn as nn\n",
    "from torch.nn import functional as F\n",
    "from datasets import Dataset\n",
    "from tokenizers import Tokenizer\n",
    "from transformers import GPT2LMHeadModel, AutoConfig,GPT2Tokenizer\n",
    "from transformers import AutoModelForSequenceClassification\n",
    "from transformers import DataCollatorWithPadding\n",
    "import numpy as np"
   ]
  },
  {
   "cell_type": "code",
   "execution_count": 6,
   "id": "af85bbac-54cc-4da1-a017-7d9f2a1d96e3",
   "metadata": {},
   "outputs": [
    {
     "data": {
      "text/html": [
       "<div>\n",
       "<style scoped>\n",
       "    .dataframe tbody tr th:only-of-type {\n",
       "        vertical-align: middle;\n",
       "    }\n",
       "\n",
       "    .dataframe tbody tr th {\n",
       "        vertical-align: top;\n",
       "    }\n",
       "\n",
       "    .dataframe thead th {\n",
       "        text-align: right;\n",
       "    }\n",
       "</style>\n",
       "<table border=\"1\" class=\"dataframe\">\n",
       "  <thead>\n",
       "    <tr style=\"text-align: right;\">\n",
       "      <th></th>\n",
       "      <th>target_id</th>\n",
       "      <th>sequence</th>\n",
       "      <th>temporal_cutoff</th>\n",
       "      <th>description</th>\n",
       "      <th>all_sequences</th>\n",
       "    </tr>\n",
       "  </thead>\n",
       "  <tbody>\n",
       "    <tr>\n",
       "      <th>0</th>\n",
       "      <td>R1107</td>\n",
       "      <td>GGGGGCCACAGCAGAAGCGUUCACGUCGCAGCCCCUGUCAGCCAUU...</td>\n",
       "      <td>2022-05-28</td>\n",
       "      <td>CPEB3 ribozyme\\nHuman\\nhuman CPEB3 HDV-like ri...</td>\n",
       "      <td>&gt;7QR4_1|Chain A|U1 small nuclear ribonucleopro...</td>\n",
       "    </tr>\n",
       "    <tr>\n",
       "      <th>1</th>\n",
       "      <td>R1108</td>\n",
       "      <td>GGGGGCCACAGCAGAAGCGUUCACGUCGCGGCCCCUGUCAGCCAUU...</td>\n",
       "      <td>2022-05-27</td>\n",
       "      <td>CPEB3 ribozyme\\nChimpanzee\\nChimpanzee CPEB3 H...</td>\n",
       "      <td>&gt;7QR3_1|Chains A, B|U1 small nuclear ribonucle...</td>\n",
       "    </tr>\n",
       "    <tr>\n",
       "      <th>2</th>\n",
       "      <td>R1116</td>\n",
       "      <td>CGCCCGGAUAGCUCAGUCGGUAGAGCAGCGGCUAAAACAGCUCUGG...</td>\n",
       "      <td>2022-06-04</td>\n",
       "      <td>Cloverleaf RNA\\nPoliovirus\\nCrystal Structure ...</td>\n",
       "      <td>&gt;8S95_1|Chain A[auth C]|Lysine tRNA scaffold,P...</td>\n",
       "    </tr>\n",
       "    <tr>\n",
       "      <th>3</th>\n",
       "      <td>R1117v2</td>\n",
       "      <td>UUGGGUUCCCUCACCCCAAUCAUAAAAAGG</td>\n",
       "      <td>2022-06-03</td>\n",
       "      <td>PreQ1 class I type III riboswitch\\nK. pneumoni...</td>\n",
       "      <td>&gt;8FZA_1|Chains A, B|PreQ1 Riboswitch (30-MER)|...</td>\n",
       "    </tr>\n",
       "    <tr>\n",
       "      <th>4</th>\n",
       "      <td>R1126</td>\n",
       "      <td>GGAAUCUCGCCCGAUGUUCGCAUCGGGAUUUGCAGGUCCAUGGAUU...</td>\n",
       "      <td>2022-06-11</td>\n",
       "      <td>Traptamer\\nSynthetic\\nAdditional Information: ...</td>\n",
       "      <td>&gt;8TVZ_1|Chain A[auth C]|RNA (363-MER)|syntheti...</td>\n",
       "    </tr>\n",
       "    <tr>\n",
       "      <th>5</th>\n",
       "      <td>R1128</td>\n",
       "      <td>GGAAUAUCGUCAUGGUGAUUCGUCACCAUGAGGCUAGAUCUCAUAU...</td>\n",
       "      <td>2022-06-10</td>\n",
       "      <td>6WJ\\nSingle-stranded Paranemic Crossover RNA T...</td>\n",
       "      <td>&gt;8BTZ_1|Chain A|RNA Paranemic croosover triang...</td>\n",
       "    </tr>\n",
       "    <tr>\n",
       "      <th>6</th>\n",
       "      <td>R1136</td>\n",
       "      <td>GGAUACGUCUACGCUCAGUGACGGACUCUCUUCGGAGAGUCUGACA...</td>\n",
       "      <td>2022-06-18</td>\n",
       "      <td>Apta-FRET\\nAdditional Information:        Info...</td>\n",
       "      <td>&gt;7ZJ4_1|Chain A[auth E]|brocolli-pepper aptame...</td>\n",
       "    </tr>\n",
       "    <tr>\n",
       "      <th>7</th>\n",
       "      <td>R1138</td>\n",
       "      <td>GGGAGAGUACUAUUCAGAUGCAGACCGCAAGUUCAGAGCGGUUUGC...</td>\n",
       "      <td>2022-06-24</td>\n",
       "      <td>6HBC-Young\\nAdditional Information:        Thi...</td>\n",
       "      <td>&gt;7PTK_1|Chain A[auth B]|RNA|synthetic construc...</td>\n",
       "    </tr>\n",
       "    <tr>\n",
       "      <th>8</th>\n",
       "      <td>R1149</td>\n",
       "      <td>GGACACGAGUAACUCGUCUAUCUUCUGCAGGCUGCUUACGGUUUCG...</td>\n",
       "      <td>2022-07-02</td>\n",
       "      <td>SARS-CoV-2 SL5\\nAdditional Information:       ...</td>\n",
       "      <td>&gt;8UYS_1|Chain A|SARS-CoV-2 RNA SL5 domain.|Sev...</td>\n",
       "    </tr>\n",
       "    <tr>\n",
       "      <th>9</th>\n",
       "      <td>R1156</td>\n",
       "      <td>GGAGCAUCGUGUCUCAAGUGCUUCACGGUCACAAUAUACCGUUUCG...</td>\n",
       "      <td>2022-07-07</td>\n",
       "      <td>BtCoV-HKU5 SL5\\nBtCoV-HKU5 5 proximal stem-loo...</td>\n",
       "      <td>&gt;8UYE_1|Chain A|BtCoV-HKU5 5' proximal stem-lo...</td>\n",
       "    </tr>\n",
       "    <tr>\n",
       "      <th>10</th>\n",
       "      <td>R1189</td>\n",
       "      <td>GCGUACAGGGAACACGCAACCCCGAAGGAUCGGGGAAGGGACGUCG...</td>\n",
       "      <td>2022-08-11</td>\n",
       "      <td>A-6B\\nAdditional Information:        The T1189...</td>\n",
       "      <td>&gt;7YR7_1|Chains A[auth B], B[auth C], C[auth D]...</td>\n",
       "    </tr>\n",
       "    <tr>\n",
       "      <th>11</th>\n",
       "      <td>R1190</td>\n",
       "      <td>GCGUACAGGGAACACGCAACCCCGAAGGAUCGGGGAAGGGACGUCG...</td>\n",
       "      <td>2022-08-11</td>\n",
       "      <td>A-4B\\nAdditional Information:        The T1189...</td>\n",
       "      <td>&gt;7YR6_1|Chains A[auth B], B[auth C], C[auth D]...</td>\n",
       "    </tr>\n",
       "  </tbody>\n",
       "</table>\n",
       "</div>"
      ],
      "text/plain": [
       "   target_id                                           sequence  \\\n",
       "0      R1107  GGGGGCCACAGCAGAAGCGUUCACGUCGCAGCCCCUGUCAGCCAUU...   \n",
       "1      R1108  GGGGGCCACAGCAGAAGCGUUCACGUCGCGGCCCCUGUCAGCCAUU...   \n",
       "2      R1116  CGCCCGGAUAGCUCAGUCGGUAGAGCAGCGGCUAAAACAGCUCUGG...   \n",
       "3    R1117v2                     UUGGGUUCCCUCACCCCAAUCAUAAAAAGG   \n",
       "4      R1126  GGAAUCUCGCCCGAUGUUCGCAUCGGGAUUUGCAGGUCCAUGGAUU...   \n",
       "5      R1128  GGAAUAUCGUCAUGGUGAUUCGUCACCAUGAGGCUAGAUCUCAUAU...   \n",
       "6      R1136  GGAUACGUCUACGCUCAGUGACGGACUCUCUUCGGAGAGUCUGACA...   \n",
       "7      R1138  GGGAGAGUACUAUUCAGAUGCAGACCGCAAGUUCAGAGCGGUUUGC...   \n",
       "8      R1149  GGACACGAGUAACUCGUCUAUCUUCUGCAGGCUGCUUACGGUUUCG...   \n",
       "9      R1156  GGAGCAUCGUGUCUCAAGUGCUUCACGGUCACAAUAUACCGUUUCG...   \n",
       "10     R1189  GCGUACAGGGAACACGCAACCCCGAAGGAUCGGGGAAGGGACGUCG...   \n",
       "11     R1190  GCGUACAGGGAACACGCAACCCCGAAGGAUCGGGGAAGGGACGUCG...   \n",
       "\n",
       "   temporal_cutoff                                        description  \\\n",
       "0       2022-05-28  CPEB3 ribozyme\\nHuman\\nhuman CPEB3 HDV-like ri...   \n",
       "1       2022-05-27  CPEB3 ribozyme\\nChimpanzee\\nChimpanzee CPEB3 H...   \n",
       "2       2022-06-04  Cloverleaf RNA\\nPoliovirus\\nCrystal Structure ...   \n",
       "3       2022-06-03  PreQ1 class I type III riboswitch\\nK. pneumoni...   \n",
       "4       2022-06-11  Traptamer\\nSynthetic\\nAdditional Information: ...   \n",
       "5       2022-06-10  6WJ\\nSingle-stranded Paranemic Crossover RNA T...   \n",
       "6       2022-06-18  Apta-FRET\\nAdditional Information:        Info...   \n",
       "7       2022-06-24  6HBC-Young\\nAdditional Information:        Thi...   \n",
       "8       2022-07-02  SARS-CoV-2 SL5\\nAdditional Information:       ...   \n",
       "9       2022-07-07  BtCoV-HKU5 SL5\\nBtCoV-HKU5 5 proximal stem-loo...   \n",
       "10      2022-08-11  A-6B\\nAdditional Information:        The T1189...   \n",
       "11      2022-08-11  A-4B\\nAdditional Information:        The T1189...   \n",
       "\n",
       "                                        all_sequences  \n",
       "0   >7QR4_1|Chain A|U1 small nuclear ribonucleopro...  \n",
       "1   >7QR3_1|Chains A, B|U1 small nuclear ribonucle...  \n",
       "2   >8S95_1|Chain A[auth C]|Lysine tRNA scaffold,P...  \n",
       "3   >8FZA_1|Chains A, B|PreQ1 Riboswitch (30-MER)|...  \n",
       "4   >8TVZ_1|Chain A[auth C]|RNA (363-MER)|syntheti...  \n",
       "5   >8BTZ_1|Chain A|RNA Paranemic croosover triang...  \n",
       "6   >7ZJ4_1|Chain A[auth E]|brocolli-pepper aptame...  \n",
       "7   >7PTK_1|Chain A[auth B]|RNA|synthetic construc...  \n",
       "8   >8UYS_1|Chain A|SARS-CoV-2 RNA SL5 domain.|Sev...  \n",
       "9   >8UYE_1|Chain A|BtCoV-HKU5 5' proximal stem-lo...  \n",
       "10  >7YR7_1|Chains A[auth B], B[auth C], C[auth D]...  \n",
       "11  >7YR6_1|Chains A[auth B], B[auth C], C[auth D]...  "
      ]
     },
     "execution_count": 6,
     "metadata": {},
     "output_type": "execute_result"
    }
   ],
   "source": [
    "# 读取并预处理数据集\n",
    "df = pd.read_csv('test_sequences.csv')\n",
    "df"
   ]
  },
  {
   "cell_type": "code",
   "execution_count": 7,
   "id": "6ef2c12b-2f70-48c7-92e8-24a8beae4345",
   "metadata": {},
   "outputs": [
    {
     "name": "stdout",
     "output_type": "stream",
     "text": [
      "GGGGGCCACAGCAGAAGCGUUCACGUCGCAGCCCCUGUCAGCCAUUGCACUCCGGCUGCGAAUUCUGCU\n",
      "R1107\n"
     ]
    }
   ],
   "source": [
    "print(df[\"sequence\"][0])\n",
    "print(df[\"target_id\"][0])"
   ]
  },
  {
   "cell_type": "code",
   "execution_count": 9,
   "id": "dd408950-f1c1-403d-a1ab-17c36333aa4b",
   "metadata": {},
   "outputs": [
    {
     "data": {
      "application/vnd.jupyter.widget-view+json": {
       "model_id": "d109b7e443c44ce885edf022dec6021d",
       "version_major": 2,
       "version_minor": 0
      },
      "text/plain": [
       "tokenizer_config.json:   0%|          | 0.00/286 [00:00<?, ?B/s]"
      ]
     },
     "metadata": {},
     "output_type": "display_data"
    },
    {
     "data": {
      "application/vnd.jupyter.widget-view+json": {
       "model_id": "b8268fd7a3324762965303e3e44091d5",
       "version_major": 2,
       "version_minor": 0
      },
      "text/plain": [
       "vocab.json: 0.00B [00:00, ?B/s]"
      ]
     },
     "metadata": {},
     "output_type": "display_data"
    },
    {
     "data": {
      "application/vnd.jupyter.widget-view+json": {
       "model_id": "226273fd6e2342458dd081a9ce05a740",
       "version_major": 2,
       "version_minor": 0
      },
      "text/plain": [
       "merges.txt: 0.00B [00:00, ?B/s]"
      ]
     },
     "metadata": {},
     "output_type": "display_data"
    },
    {
     "data": {
      "application/vnd.jupyter.widget-view+json": {
       "model_id": "864fc0d54cc14b0f9b57a09e010c5aab",
       "version_major": 2,
       "version_minor": 0
      },
      "text/plain": [
       "tokenizer.json: 0.00B [00:00, ?B/s]"
      ]
     },
     "metadata": {},
     "output_type": "display_data"
    },
    {
     "data": {
      "application/vnd.jupyter.widget-view+json": {
       "model_id": "4f3905511b204aa8881f388f68178eb5",
       "version_major": 2,
       "version_minor": 0
      },
      "text/plain": [
       "special_tokens_map.json:   0%|          | 0.00/129 [00:00<?, ?B/s]"
      ]
     },
     "metadata": {},
     "output_type": "display_data"
    }
   ],
   "source": [
    "# 从 Trainer 获取训练好的模型\n",
    "\n",
    "# 检查 GPU 可用性并设置设备\n",
    "device = torch.device(\"cuda\" if torch.cuda.is_available() else \"cpu\")\n",
    "\n",
    "model =  AutoModelForSequenceClassification.from_pretrained(\"dnagpt/gene_eng_gpt2_v0_rna3d_ft\").to(device)\n",
    "tokenizer = AutoTokenizer.from_pretrained(\"dnagpt/gene_eng_gpt2_v0_rna3d_ft\")\n",
    "model.eval()  # 设置为评估模式\n",
    "\n",
    "def get_rna_pos(seq):\n",
    "    \"\"\"\n",
    "    获得ran序列最后一个残基的三维坐标预测\n",
    "    \"\"\"\n",
    "    # 分词和填充\n",
    "    inputs = tokenizer(seq, truncation=True, padding='max_length', max_length=256, return_tensors=\"pt\")\n",
    "    input_ids = inputs[\"input_ids\"].to(device)  # 移动到 GPU   形状: (1, 256)\n",
    "    attention_mask = inputs[\"attention_mask\"].to(device)  # 移动到 GPU  形状: (1, 256)\n",
    "    \n",
    "    # 推理\n",
    "    with torch.no_grad():\n",
    "        outputs = model(input_ids=input_ids, attention_mask=attention_mask)\n",
    "        predictions = outputs.logits  # 形状: (1, 3)\n",
    "    \n",
    "    # 转换为 numpy 或列表\n",
    "    predictions = predictions.squeeze(0).cpu().numpy()  # 从 GPU 移回 CPU 并转为 NumPy  ， [x, y, z]\n",
    "    return predictions\n",
    "\n",
    "def get_rna_all_pos(sequence):\n",
    "    \"\"\"\n",
    "    获得rna每个残基的三维坐标预测\n",
    "    \"\"\"\n",
    "    seq_pos_list_local = []\n",
    "    for i in range(0, len(sequence)):\n",
    "        seq = sequence[0:i+1].replace(\"U\",\"T\") #U-->T\n",
    "        #如果seq长度大于1024则只要最后面的1024个字符\n",
    "        if len(seq) > 1024:\n",
    "            seq = seq[-1024:]\n",
    "        pos = get_rna_pos(seq).tolist()\n",
    "        #print(seq, pos)\n",
    "        seq_pos_list_local.append(pos)\n",
    "    return seq_pos_list_local\n",
    "\n",
    "def get_csv_data(target_id, seq):\n",
    "    \"\"\"\n",
    "    get csv result of seq\n",
    "    \"\"\"\n",
    "    seq_pos_list = get_rna_all_pos(seq)\n",
    "    data_list = []\n",
    "    for index, (res, pos_list) in enumerate(zip(seq, seq_pos_list)):\n",
    "        #print(index, res, pos_list)\n",
    "        data = {\n",
    "            \"ID\":target_id +\"_\" +str(index+1),\n",
    "            \"resname\":res,\n",
    "            \"resid\":str(index+1),\n",
    "            \"x_1\":pos_list[0],\n",
    "            \"y_1\":pos_list[1],\n",
    "            \"z_1\":pos_list[2],\n",
    "            \"x_2\":pos_list[0],\n",
    "            \"y_2\":pos_list[1],\n",
    "            \"z_2\":pos_list[2],\n",
    "            \"x_3\":pos_list[0],\n",
    "            \"y_3\":pos_list[1],\n",
    "            \"z_3\":pos_list[2],\n",
    "            \"x_4\":pos_list[0],\n",
    "            \"y_4\":pos_list[1],\n",
    "            \"z_4\":pos_list[2],\n",
    "            \"x_5\":pos_list[0],\n",
    "            \"y_5\":pos_list[1],\n",
    "            \"z_5\":pos_list[2],\n",
    "        }\n",
    "        data_list.append(data)\n",
    "    return data_list"
   ]
  },
  {
   "cell_type": "code",
   "execution_count": 10,
   "id": "60fa2149-db97-4f24-9bb9-93a0ec371d1f",
   "metadata": {},
   "outputs": [],
   "source": [
    "csv_data_list = []\n",
    "for target_id,seq in zip(df[\"target_id\"], df[\"sequence\"]):\n",
    "    data_list = get_csv_data(target_id, seq)\n",
    "    csv_data_list.extend(data_list)"
   ]
  },
  {
   "cell_type": "code",
   "execution_count": 11,
   "id": "ef3b3d83-3dc0-486c-b213-25b4deea6933",
   "metadata": {},
   "outputs": [],
   "source": [
    "# 将数据列表转换为 DataFrame\n",
    "df = pd.DataFrame(csv_data_list)\n",
    "\n",
    "# 写入 CSV 文件\n",
    "df.to_csv(\"submission.csv\", index=False)"
   ]
  },
  {
   "cell_type": "code",
   "execution_count": null,
   "id": "01169079-b0cb-4280-b807-9ff8a54f0be0",
   "metadata": {},
   "outputs": [],
   "source": []
  }
 ],
 "metadata": {
  "kernelspec": {
   "display_name": "Python 3 (ipykernel)",
   "language": "python",
   "name": "python3"
  },
  "language_info": {
   "codemirror_mode": {
    "name": "ipython",
    "version": 3
   },
   "file_extension": ".py",
   "mimetype": "text/x-python",
   "name": "python",
   "nbconvert_exporter": "python",
   "pygments_lexer": "ipython3",
   "version": "3.12.3"
  }
 },
 "nbformat": 4,
 "nbformat_minor": 5
}
