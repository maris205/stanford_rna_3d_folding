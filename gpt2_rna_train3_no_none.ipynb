{
 "cells": [
  {
   "cell_type": "code",
   "execution_count": 1,
   "id": "b9ed1f31-3f2b-4adc-8d77-3c4c7b2a500f",
   "metadata": {},
   "outputs": [
    {
     "name": "stdout",
     "output_type": "stream",
     "text": [
      "https://hf-mirror.com\n"
     ]
    }
   ],
   "source": [
    "import os\n",
    "\n",
    "# 设置环境变量\n",
    "os.environ['HF_ENDPOINT'] = 'https://hf-mirror.com'\n",
    "\n",
    "# 打印环境变量以确认设置成功\n",
    "print(os.environ.get('HF_ENDPOINT'))"
   ]
  },
  {
   "cell_type": "code",
   "execution_count": 2,
   "id": "c268962e-04fc-4e15-ad2f-373f5d905ae4",
   "metadata": {},
   "outputs": [],
   "source": [
    "from transformers import AutoTokenizer, AutoModel\n",
    "from tokenizers import Tokenizer\n",
    "from transformers import GPT2LMHeadModel, AutoConfig,GPT2Tokenizer\n",
    "from transformers import AutoModelForSequenceClassification\n",
    "from transformers import DataCollatorWithPadding"
   ]
  },
  {
   "cell_type": "code",
   "execution_count": 3,
   "id": "61973dd8-eac4-440d-b3fd-3dcb79e1e42d",
   "metadata": {},
   "outputs": [],
   "source": [
    "#set tokenizer\n",
    "tokenizer = GPT2Tokenizer.from_pretrained(\"dnagpt/gene_eng_gpt2_v0\")\n",
    "tokenizer.pad_token = tokenizer.eos_token"
   ]
  },
  {
   "cell_type": "code",
   "execution_count": 4,
   "id": "969af9ae-299b-4846-bddd-5cebc7d9dae2",
   "metadata": {},
   "outputs": [
    {
     "name": "stderr",
     "output_type": "stream",
     "text": [
      "Some weights of GPT2ForSequenceClassification were not initialized from the model checkpoint at dnagpt/gene_eng_gpt2_v0 and are newly initialized: ['score.weight']\n",
      "You should probably TRAIN this model on a down-stream task to be able to use it for predictions and inference.\n"
     ]
    }
   ],
   "source": [
    "#set model\n",
    "model = AutoModelForSequenceClassification.from_pretrained(\"dnagpt/gene_eng_gpt2_v0\", num_labels=3, problem_type=\"regression\")\n",
    "model.config.pad_token_id = model.config.eos_token_id"
   ]
  },
  {
   "cell_type": "code",
   "execution_count": 5,
   "id": "6e84a4b6-d271-4870-90d6-b105e2b597f1",
   "metadata": {},
   "outputs": [
    {
     "data": {
      "application/vnd.jupyter.widget-view+json": {
       "model_id": "2c4287074eab4e9a9c35c374b981fc2c",
       "version_major": 2,
       "version_minor": 0
      },
      "text/plain": [
       "Generating train split: 0 examples [00:00, ? examples/s]"
      ]
     },
     "metadata": {},
     "output_type": "display_data"
    },
    {
     "data": {
      "application/vnd.jupyter.widget-view+json": {
       "model_id": "a46ae99d73464a50a06f93762f71b425",
       "version_major": 2,
       "version_minor": 0
      },
      "text/plain": [
       "Generating train split: 0 examples [00:00, ? examples/s]"
      ]
     },
     "metadata": {},
     "output_type": "display_data"
    },
    {
     "data": {
      "text/plain": [
       "DatasetDict({\n",
       "    train: Dataset({\n",
       "        features: ['seq', 'label'],\n",
       "        num_rows: 130950\n",
       "    })\n",
       "    test: Dataset({\n",
       "        features: ['seq', 'label'],\n",
       "        num_rows: 2515\n",
       "    })\n",
       "})"
      ]
     },
     "execution_count": 5,
     "metadata": {},
     "output_type": "execute_result"
    }
   ],
   "source": [
    "from datasets import load_dataset,DatasetDict\n",
    "# 1. load ~11k samples from promoters prediction dataset\n",
    "dataset_train = load_dataset(\"json\", data_files=\"rna_pos_1024_train_no_none.jsonl\")\n",
    "dataset_val = load_dataset(\"json\", data_files=\"rna_pos_1024_val_no_none.jsonl\")\n",
    "\n",
    "dataset = DatasetDict({\n",
    "    \"train\":dataset_train[\"train\"],\n",
    "    \"test\":dataset_val[\"train\"] }\n",
    ")\n",
    "\n",
    "dataset"
   ]
  },
  {
   "cell_type": "code",
   "execution_count": 6,
   "id": "9f351e3c-0e8c-4085-be94-bb03771cc1ff",
   "metadata": {},
   "outputs": [
    {
     "data": {
      "text/plain": [
       "{'seq': 'GGATACGTCTACGCTCAGTGACGGACTCTCTTCGGAGAGTCTGACATCCGAACCATACACGGATGTGCCTCGCCGAACAGTCTACGGCGAGCTTAAGCGCTGGGGACGCCCAACGCATCACAAAGACTGAGTGATGAACCAGAAGTATGGACTGGTTGCGTTGGTGGAGACGGTCGGGTCCAGTTCGCTGTCGAGTAGAGTGTGGGCTCCATCGACGCCGCTTTAAGGTCCCCAATCGTGGCGTGTCGGCCTGCTTCGGCAGGCACTGGCGCCGGGACCTTGAAGAGATGAGATTTCGATCTCATCTTTGGGTGTCT',\n",
       " 'label': [141.51800537109375, 172.2519989013672, 124.7959976196289]}"
      ]
     },
     "execution_count": 6,
     "metadata": {},
     "output_type": "execute_result"
    }
   ],
   "source": [
    "dataset[\"test\"][1242]"
   ]
  },
  {
   "cell_type": "code",
   "execution_count": 7,
   "id": "38a7bcaf-7aed-4e75-bde1-2d4aa9580409",
   "metadata": {},
   "outputs": [
    {
     "name": "stdout",
     "output_type": "stream",
     "text": [
      "datasets  mean token lenght 35.09025844930417 min token length 1 max token length 133\n"
     ]
    }
   ],
   "source": [
    "token_len_list = []\n",
    "for item in dataset[\"test\"]:\n",
    "    inputs = tokenizer.tokenize(item[\"seq\"])\n",
    "    token_len_list.append( len(inputs) )\n",
    "\n",
    "mean_len = sum(token_len_list)/len(token_len_list)\n",
    "min_len  = min(token_len_list)\n",
    "max_len = max(token_len_list)\n",
    "\n",
    "print(\"datasets \", \"mean token lenght\", mean_len, \"min token length\", min_len, \"max token length\", max_len)"
   ]
  },
  {
   "cell_type": "code",
   "execution_count": 9,
   "id": "7e137c2c-943e-41df-b940-bacecb52400b",
   "metadata": {},
   "outputs": [
    {
     "data": {
      "application/vnd.jupyter.widget-view+json": {
       "model_id": "f50cca6768bf40d78318a0e3290808de",
       "version_major": 2,
       "version_minor": 0
      },
      "text/plain": [
       "Map (num_proc=8):   0%|          | 0/130950 [00:00<?, ? examples/s]"
      ]
     },
     "metadata": {},
     "output_type": "display_data"
    },
    {
     "data": {
      "application/vnd.jupyter.widget-view+json": {
       "model_id": "36aa0e7d001f417da42d7bbd0581cd6c",
       "version_major": 2,
       "version_minor": 0
      },
      "text/plain": [
       "Map (num_proc=8):   0%|          | 0/2515 [00:00<?, ? examples/s]"
      ]
     },
     "metadata": {},
     "output_type": "display_data"
    }
   ],
   "source": [
    "# 2. tokenize\n",
    "def tokenize_function(examples):\n",
    "    return tokenizer(examples['seq'], truncation=True, padding='max_length',max_length=256)\n",
    "\n",
    "# 3. 对数据集应用分词函数\n",
    "tokenized_datasets = dataset.map(tokenize_function, batched=True, num_proc=8)\n",
    "\n",
    "# 4. 创建一个数据收集器，用于动态填充和遮蔽\n",
    "data_collator = DataCollatorWithPadding(tokenizer=tokenizer)"
   ]
  },
  {
   "cell_type": "code",
   "execution_count": 11,
   "id": "1ba410cb-005e-4214-bcbe-e367f66e13b3",
   "metadata": {},
   "outputs": [
    {
     "name": "stderr",
     "output_type": "stream",
     "text": [
      "/root/miniconda3/lib/python3.12/site-packages/transformers/training_args.py:1545: FutureWarning: `evaluation_strategy` is deprecated and will be removed in version 4.46 of 🤗 Transformers. Use `eval_strategy` instead\n",
      "  warnings.warn(\n"
     ]
    }
   ],
   "source": [
    "from transformers import TrainingArguments, Trainer\n",
    "import numpy as np\n",
    "from sklearn.metrics import mean_squared_error\n",
    "\n",
    "\n",
    "def compute_metrics(eval_pred):\n",
    "    predictions, labels = eval_pred\n",
    "    rmse = mean_squared_error(labels, predictions)\n",
    "    return {\"rmse\": rmse}\n",
    "\n",
    "# 设置训练参数\n",
    "training_args = TrainingArguments(\n",
    "    output_dir='./results',\n",
    "    evaluation_strategy=\"epoch\",\n",
    "    learning_rate=2e-5,\n",
    "    per_device_train_batch_size=20,\n",
    "    per_device_eval_batch_size=20,\n",
    "    num_train_epochs=10,\n",
    "    weight_decay=0.01,\n",
    "    save_total_limit=3,               # 最多保存 3 个 checkpoint\n",
    ")\n",
    "\n",
    "# 使用Trainer API进行训练（假设已有train_dataset和eval_dataset）\n",
    "trainer = Trainer(\n",
    "    model=model,\n",
    "    args=training_args,\n",
    "    train_dataset=tokenized_datasets[\"train\"],\n",
    "    eval_dataset=tokenized_datasets[\"test\"],\n",
    "    tokenizer=tokenizer,\n",
    "    data_collator=data_collator,\n",
    "    compute_metrics=compute_metrics,\n",
    ")"
   ]
  },
  {
   "cell_type": "code",
   "execution_count": 13,
   "id": "69bb228e-374e-4404-88a5-8cd3c1a005a0",
   "metadata": {},
   "outputs": [
    {
     "data": {
      "text/html": [
       "\n",
       "    <div>\n",
       "      \n",
       "      <progress value='65480' max='65480' style='width:300px; height:20px; vertical-align: middle;'></progress>\n",
       "      [65480/65480 2:43:02, Epoch 10/10]\n",
       "    </div>\n",
       "    <table border=\"1\" class=\"dataframe\">\n",
       "  <thead>\n",
       " <tr style=\"text-align: left;\">\n",
       "      <th>Epoch</th>\n",
       "      <th>Training Loss</th>\n",
       "      <th>Validation Loss</th>\n",
       "      <th>Rmse</th>\n",
       "    </tr>\n",
       "  </thead>\n",
       "  <tbody>\n",
       "    <tr>\n",
       "      <td>1</td>\n",
       "      <td>1214.070600</td>\n",
       "      <td>5964214370031226498943845239095296.000000</td>\n",
       "      <td>5964214989001246141633982688657408.000000</td>\n",
       "    </tr>\n",
       "    <tr>\n",
       "      <td>2</td>\n",
       "      <td>1294.380600</td>\n",
       "      <td>5964214370031226498943845239095296.000000</td>\n",
       "      <td>5964214989001246141633982688657408.000000</td>\n",
       "    </tr>\n",
       "    <tr>\n",
       "      <td>3</td>\n",
       "      <td>1211.346000</td>\n",
       "      <td>5964214370031226498943845239095296.000000</td>\n",
       "      <td>5964214989001246141633982688657408.000000</td>\n",
       "    </tr>\n",
       "    <tr>\n",
       "      <td>4</td>\n",
       "      <td>1112.113400</td>\n",
       "      <td>5964214370031226498943845239095296.000000</td>\n",
       "      <td>5964214989001246141633982688657408.000000</td>\n",
       "    </tr>\n",
       "    <tr>\n",
       "      <td>5</td>\n",
       "      <td>1073.794600</td>\n",
       "      <td>5964214370031226498943845239095296.000000</td>\n",
       "      <td>5964214989001246141633982688657408.000000</td>\n",
       "    </tr>\n",
       "    <tr>\n",
       "      <td>6</td>\n",
       "      <td>1041.509900</td>\n",
       "      <td>5964214370031226498943845239095296.000000</td>\n",
       "      <td>5964214989001246141633982688657408.000000</td>\n",
       "    </tr>\n",
       "    <tr>\n",
       "      <td>7</td>\n",
       "      <td>971.054900</td>\n",
       "      <td>5964214370031226498943845239095296.000000</td>\n",
       "      <td>5964214989001246141633982688657408.000000</td>\n",
       "    </tr>\n",
       "    <tr>\n",
       "      <td>8</td>\n",
       "      <td>898.040300</td>\n",
       "      <td>5964214370031226498943845239095296.000000</td>\n",
       "      <td>5964214989001246141633982688657408.000000</td>\n",
       "    </tr>\n",
       "    <tr>\n",
       "      <td>9</td>\n",
       "      <td>973.293000</td>\n",
       "      <td>5964214370031226498943845239095296.000000</td>\n",
       "      <td>5964214989001246141633982688657408.000000</td>\n",
       "    </tr>\n",
       "    <tr>\n",
       "      <td>10</td>\n",
       "      <td>1034.237100</td>\n",
       "      <td>5964214370031226498943845239095296.000000</td>\n",
       "      <td>5964214989001246141633982688657408.000000</td>\n",
       "    </tr>\n",
       "  </tbody>\n",
       "</table><p>"
      ],
      "text/plain": [
       "<IPython.core.display.HTML object>"
      ]
     },
     "metadata": {},
     "output_type": "display_data"
    },
    {
     "data": {
      "text/plain": [
       "TrainOutput(global_step=65480, training_loss=1053.222846670739, metrics={'train_runtime': 9782.5556, 'train_samples_per_second': 133.861, 'train_steps_per_second': 6.694, 'total_flos': 1.71085592199168e+17, 'train_loss': 1053.222846670739, 'epoch': 10.0})"
      ]
     },
     "execution_count": 13,
     "metadata": {},
     "output_type": "execute_result"
    }
   ],
   "source": [
    "trainer.train()"
   ]
  },
  {
   "cell_type": "code",
   "execution_count": 14,
   "id": "19b728bc-0175-482a-b67f-683593c5b1e8",
   "metadata": {},
   "outputs": [
    {
     "data": {
      "text/html": [],
      "text/plain": [
       "<IPython.core.display.HTML object>"
      ]
     },
     "metadata": {},
     "output_type": "display_data"
    },
    {
     "data": {
      "text/plain": [
       "PredictionOutput(predictions=array([[ 28.463812,  21.273907,  26.50425 ],\n",
       "       [ 22.752205,  17.67276 ,  21.739912],\n",
       "       [ 16.271358,  16.555983,  18.032711],\n",
       "       ...,\n",
       "       [ 78.604294, 101.76971 ,  74.41993 ],\n",
       "       [ 86.36459 ,  83.671036,  75.93454 ],\n",
       "       [ 80.91185 ,  88.14135 ,  72.40309 ]], dtype=float32), label_ids=array([[ -5.499,   8.52 ,   8.605],\n",
       "       [ -5.826,  10.453,  14.01 ],\n",
       "       [ -5.849,  14.768,  17.585],\n",
       "       ...,\n",
       "       [ 99.012, 105.749, 113.074],\n",
       "       [103.861, 103.453, 114.59 ],\n",
       "       [106.745,  95.313, 112.321]], dtype=float32), metrics={'test_loss': 5.964214370031226e+33, 'test_rmse': 5.964214989001246e+33, 'test_runtime': 5.9612, 'test_samples_per_second': 421.896, 'test_steps_per_second': 21.137})"
      ]
     },
     "execution_count": 14,
     "metadata": {},
     "output_type": "execute_result"
    }
   ],
   "source": [
    "#模型测试\n",
    "predictions = trainer.predict(tokenized_datasets[\"test\"])\n",
    "predictions"
   ]
  },
  {
   "cell_type": "code",
   "execution_count": 15,
   "id": "4c5518da-05fe-4f3e-8dc1-566947ec5bf8",
   "metadata": {},
   "outputs": [
    {
     "data": {
      "text/plain": [
       "('./gene_eng_gpt2_v0_rna3d_ft_v2/tokenizer_config.json',\n",
       " './gene_eng_gpt2_v0_rna3d_ft_v2/special_tokens_map.json',\n",
       " './gene_eng_gpt2_v0_rna3d_ft_v2/vocab.json',\n",
       " './gene_eng_gpt2_v0_rna3d_ft_v2/merges.txt',\n",
       " './gene_eng_gpt2_v0_rna3d_ft_v2/added_tokens.json')"
      ]
     },
     "execution_count": 15,
     "metadata": {},
     "output_type": "execute_result"
    }
   ],
   "source": [
    "# 保存模型和 tokenizer 到本地目录\n",
    "model.save_pretrained(\"./gene_eng_gpt2_v0_rna3d_ft_v2\")  # 模型保存到 ./my_model 目录\n",
    "tokenizer.save_pretrained(\"./gene_eng_gpt2_v0_rna3d_ft_v2\")  # tokenizer 保存到 ./my_model 目录"
   ]
  },
  {
   "cell_type": "code",
   "execution_count": null,
   "id": "7838bc79-ef31-4027-b1f4-8da017c37f02",
   "metadata": {},
   "outputs": [],
   "source": []
  }
 ],
 "metadata": {
  "kernelspec": {
   "display_name": "Python 3 (ipykernel)",
   "language": "python",
   "name": "python3"
  },
  "language_info": {
   "codemirror_mode": {
    "name": "ipython",
    "version": 3
   },
   "file_extension": ".py",
   "mimetype": "text/x-python",
   "name": "python",
   "nbconvert_exporter": "python",
   "pygments_lexer": "ipython3",
   "version": "3.12.3"
  }
 },
 "nbformat": 4,
 "nbformat_minor": 5
}
