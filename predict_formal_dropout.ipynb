{
 "cells": [
  {
   "cell_type": "code",
   "execution_count": 1,
   "id": "e4a2c9fb-f7c6-4d86-8910-97e363c37917",
   "metadata": {},
   "outputs": [
    {
     "name": "stdout",
     "output_type": "stream",
     "text": [
      "https://hf-mirror.com\n"
     ]
    }
   ],
   "source": [
    "import os\n",
    "\n",
    "# 设置环境变量\n",
    "os.environ['HF_ENDPOINT'] = 'https://hf-mirror.com'\n",
    "\n",
    "# 打印环境变量以确认设置成功\n",
    "print(os.environ.get('HF_ENDPOINT'))"
   ]
  },
  {
   "cell_type": "code",
   "execution_count": 2,
   "id": "cb87c59d-5c2f-49ff-9fd4-43970854e884",
   "metadata": {},
   "outputs": [
    {
     "name": "stderr",
     "output_type": "stream",
     "text": [
      "2025-03-09 14:36:55.277035: I tensorflow/core/util/port.cc:153] oneDNN custom operations are on. You may see slightly different numerical results due to floating-point round-off errors from different computation orders. To turn them off, set the environment variable `TF_ENABLE_ONEDNN_OPTS=0`.\n",
      "2025-03-09 14:36:55.289198: E external/local_xla/xla/stream_executor/cuda/cuda_fft.cc:485] Unable to register cuFFT factory: Attempting to register factory for plugin cuFFT when one has already been registered\n",
      "2025-03-09 14:36:55.304081: E external/local_xla/xla/stream_executor/cuda/cuda_dnn.cc:8454] Unable to register cuDNN factory: Attempting to register factory for plugin cuDNN when one has already been registered\n",
      "2025-03-09 14:36:55.308471: E external/local_xla/xla/stream_executor/cuda/cuda_blas.cc:1452] Unable to register cuBLAS factory: Attempting to register factory for plugin cuBLAS when one has already been registered\n",
      "2025-03-09 14:36:55.319531: I tensorflow/core/platform/cpu_feature_guard.cc:210] This TensorFlow binary is optimized to use available CPU instructions in performance-critical operations.\n",
      "To enable the following instructions: AVX2 AVX512F AVX512_VNNI AVX512_BF16 FMA, in other operations, rebuild TensorFlow with the appropriate compiler flags.\n",
      "2025-03-09 14:36:56.207867: W tensorflow/compiler/tf2tensorrt/utils/py_utils.cc:38] TF-TRT Warning: Could not find TensorRT\n"
     ]
    }
   ],
   "source": [
    "import pandas as pd\n",
    "from transformers import AutoModel, AutoTokenizer, Trainer, TrainingArguments\n",
    "import torch\n",
    "import torch.nn as nn\n",
    "from torch.nn import functional as F\n",
    "from datasets import Dataset\n",
    "from tokenizers import Tokenizer\n",
    "from transformers import GPT2LMHeadModel, AutoConfig,GPT2Tokenizer\n",
    "from transformers import AutoModelForSequenceClassification\n",
    "from transformers import DataCollatorWithPadding\n",
    "import numpy as np"
   ]
  },
  {
   "cell_type": "code",
   "execution_count": 3,
   "id": "af85bbac-54cc-4da1-a017-7d9f2a1d96e3",
   "metadata": {},
   "outputs": [
    {
     "data": {
      "text/html": [
       "<div>\n",
       "<style scoped>\n",
       "    .dataframe tbody tr th:only-of-type {\n",
       "        vertical-align: middle;\n",
       "    }\n",
       "\n",
       "    .dataframe tbody tr th {\n",
       "        vertical-align: top;\n",
       "    }\n",
       "\n",
       "    .dataframe thead th {\n",
       "        text-align: right;\n",
       "    }\n",
       "</style>\n",
       "<table border=\"1\" class=\"dataframe\">\n",
       "  <thead>\n",
       "    <tr style=\"text-align: right;\">\n",
       "      <th></th>\n",
       "      <th>target_id</th>\n",
       "      <th>sequence</th>\n",
       "      <th>temporal_cutoff</th>\n",
       "      <th>description</th>\n",
       "      <th>all_sequences</th>\n",
       "    </tr>\n",
       "  </thead>\n",
       "  <tbody>\n",
       "    <tr>\n",
       "      <th>0</th>\n",
       "      <td>R1107</td>\n",
       "      <td>GGGGGCCACAGCAGAAGCGUUCACGUCGCAGCCCCUGUCAGCCAUU...</td>\n",
       "      <td>2022-05-28</td>\n",
       "      <td>CPEB3 ribozyme\\nHuman\\nhuman CPEB3 HDV-like ri...</td>\n",
       "      <td>&gt;7QR4_1|Chain A|U1 small nuclear ribonucleopro...</td>\n",
       "    </tr>\n",
       "    <tr>\n",
       "      <th>1</th>\n",
       "      <td>R1108</td>\n",
       "      <td>GGGGGCCACAGCAGAAGCGUUCACGUCGCGGCCCCUGUCAGCCAUU...</td>\n",
       "      <td>2022-05-27</td>\n",
       "      <td>CPEB3 ribozyme\\nChimpanzee\\nChimpanzee CPEB3 H...</td>\n",
       "      <td>&gt;7QR3_1|Chains A, B|U1 small nuclear ribonucle...</td>\n",
       "    </tr>\n",
       "    <tr>\n",
       "      <th>2</th>\n",
       "      <td>R1116</td>\n",
       "      <td>CGCCCGGAUAGCUCAGUCGGUAGAGCAGCGGCUAAAACAGCUCUGG...</td>\n",
       "      <td>2022-06-04</td>\n",
       "      <td>Cloverleaf RNA\\nPoliovirus\\nCrystal Structure ...</td>\n",
       "      <td>&gt;8S95_1|Chain A[auth C]|Lysine tRNA scaffold,P...</td>\n",
       "    </tr>\n",
       "    <tr>\n",
       "      <th>3</th>\n",
       "      <td>R1117v2</td>\n",
       "      <td>UUGGGUUCCCUCACCCCAAUCAUAAAAAGG</td>\n",
       "      <td>2022-06-03</td>\n",
       "      <td>PreQ1 class I type III riboswitch\\nK. pneumoni...</td>\n",
       "      <td>&gt;8FZA_1|Chains A, B|PreQ1 Riboswitch (30-MER)|...</td>\n",
       "    </tr>\n",
       "    <tr>\n",
       "      <th>4</th>\n",
       "      <td>R1126</td>\n",
       "      <td>GGAAUCUCGCCCGAUGUUCGCAUCGGGAUUUGCAGGUCCAUGGAUU...</td>\n",
       "      <td>2022-06-11</td>\n",
       "      <td>Traptamer\\nSynthetic\\nAdditional Information: ...</td>\n",
       "      <td>&gt;8TVZ_1|Chain A[auth C]|RNA (363-MER)|syntheti...</td>\n",
       "    </tr>\n",
       "    <tr>\n",
       "      <th>5</th>\n",
       "      <td>R1128</td>\n",
       "      <td>GGAAUAUCGUCAUGGUGAUUCGUCACCAUGAGGCUAGAUCUCAUAU...</td>\n",
       "      <td>2022-06-10</td>\n",
       "      <td>6WJ\\nSingle-stranded Paranemic Crossover RNA T...</td>\n",
       "      <td>&gt;8BTZ_1|Chain A|RNA Paranemic croosover triang...</td>\n",
       "    </tr>\n",
       "    <tr>\n",
       "      <th>6</th>\n",
       "      <td>R1136</td>\n",
       "      <td>GGAUACGUCUACGCUCAGUGACGGACUCUCUUCGGAGAGUCUGACA...</td>\n",
       "      <td>2022-06-18</td>\n",
       "      <td>Apta-FRET\\nAdditional Information:        Info...</td>\n",
       "      <td>&gt;7ZJ4_1|Chain A[auth E]|brocolli-pepper aptame...</td>\n",
       "    </tr>\n",
       "    <tr>\n",
       "      <th>7</th>\n",
       "      <td>R1138</td>\n",
       "      <td>GGGAGAGUACUAUUCAGAUGCAGACCGCAAGUUCAGAGCGGUUUGC...</td>\n",
       "      <td>2022-06-24</td>\n",
       "      <td>6HBC-Young\\nAdditional Information:        Thi...</td>\n",
       "      <td>&gt;7PTK_1|Chain A[auth B]|RNA|synthetic construc...</td>\n",
       "    </tr>\n",
       "    <tr>\n",
       "      <th>8</th>\n",
       "      <td>R1149</td>\n",
       "      <td>GGACACGAGUAACUCGUCUAUCUUCUGCAGGCUGCUUACGGUUUCG...</td>\n",
       "      <td>2022-07-02</td>\n",
       "      <td>SARS-CoV-2 SL5\\nAdditional Information:       ...</td>\n",
       "      <td>&gt;8UYS_1|Chain A|SARS-CoV-2 RNA SL5 domain.|Sev...</td>\n",
       "    </tr>\n",
       "    <tr>\n",
       "      <th>9</th>\n",
       "      <td>R1156</td>\n",
       "      <td>GGAGCAUCGUGUCUCAAGUGCUUCACGGUCACAAUAUACCGUUUCG...</td>\n",
       "      <td>2022-07-07</td>\n",
       "      <td>BtCoV-HKU5 SL5\\nBtCoV-HKU5 5 proximal stem-loo...</td>\n",
       "      <td>&gt;8UYE_1|Chain A|BtCoV-HKU5 5' proximal stem-lo...</td>\n",
       "    </tr>\n",
       "    <tr>\n",
       "      <th>10</th>\n",
       "      <td>R1189</td>\n",
       "      <td>GCGUACAGGGAACACGCAACCCCGAAGGAUCGGGGAAGGGACGUCG...</td>\n",
       "      <td>2022-08-11</td>\n",
       "      <td>A-6B\\nAdditional Information:        The T1189...</td>\n",
       "      <td>&gt;7YR7_1|Chains A[auth B], B[auth C], C[auth D]...</td>\n",
       "    </tr>\n",
       "    <tr>\n",
       "      <th>11</th>\n",
       "      <td>R1190</td>\n",
       "      <td>GCGUACAGGGAACACGCAACCCCGAAGGAUCGGGGAAGGGACGUCG...</td>\n",
       "      <td>2022-08-11</td>\n",
       "      <td>A-4B\\nAdditional Information:        The T1189...</td>\n",
       "      <td>&gt;7YR6_1|Chains A[auth B], B[auth C], C[auth D]...</td>\n",
       "    </tr>\n",
       "  </tbody>\n",
       "</table>\n",
       "</div>"
      ],
      "text/plain": [
       "   target_id                                           sequence  \\\n",
       "0      R1107  GGGGGCCACAGCAGAAGCGUUCACGUCGCAGCCCCUGUCAGCCAUU...   \n",
       "1      R1108  GGGGGCCACAGCAGAAGCGUUCACGUCGCGGCCCCUGUCAGCCAUU...   \n",
       "2      R1116  CGCCCGGAUAGCUCAGUCGGUAGAGCAGCGGCUAAAACAGCUCUGG...   \n",
       "3    R1117v2                     UUGGGUUCCCUCACCCCAAUCAUAAAAAGG   \n",
       "4      R1126  GGAAUCUCGCCCGAUGUUCGCAUCGGGAUUUGCAGGUCCAUGGAUU...   \n",
       "5      R1128  GGAAUAUCGUCAUGGUGAUUCGUCACCAUGAGGCUAGAUCUCAUAU...   \n",
       "6      R1136  GGAUACGUCUACGCUCAGUGACGGACUCUCUUCGGAGAGUCUGACA...   \n",
       "7      R1138  GGGAGAGUACUAUUCAGAUGCAGACCGCAAGUUCAGAGCGGUUUGC...   \n",
       "8      R1149  GGACACGAGUAACUCGUCUAUCUUCUGCAGGCUGCUUACGGUUUCG...   \n",
       "9      R1156  GGAGCAUCGUGUCUCAAGUGCUUCACGGUCACAAUAUACCGUUUCG...   \n",
       "10     R1189  GCGUACAGGGAACACGCAACCCCGAAGGAUCGGGGAAGGGACGUCG...   \n",
       "11     R1190  GCGUACAGGGAACACGCAACCCCGAAGGAUCGGGGAAGGGACGUCG...   \n",
       "\n",
       "   temporal_cutoff                                        description  \\\n",
       "0       2022-05-28  CPEB3 ribozyme\\nHuman\\nhuman CPEB3 HDV-like ri...   \n",
       "1       2022-05-27  CPEB3 ribozyme\\nChimpanzee\\nChimpanzee CPEB3 H...   \n",
       "2       2022-06-04  Cloverleaf RNA\\nPoliovirus\\nCrystal Structure ...   \n",
       "3       2022-06-03  PreQ1 class I type III riboswitch\\nK. pneumoni...   \n",
       "4       2022-06-11  Traptamer\\nSynthetic\\nAdditional Information: ...   \n",
       "5       2022-06-10  6WJ\\nSingle-stranded Paranemic Crossover RNA T...   \n",
       "6       2022-06-18  Apta-FRET\\nAdditional Information:        Info...   \n",
       "7       2022-06-24  6HBC-Young\\nAdditional Information:        Thi...   \n",
       "8       2022-07-02  SARS-CoV-2 SL5\\nAdditional Information:       ...   \n",
       "9       2022-07-07  BtCoV-HKU5 SL5\\nBtCoV-HKU5 5 proximal stem-loo...   \n",
       "10      2022-08-11  A-6B\\nAdditional Information:        The T1189...   \n",
       "11      2022-08-11  A-4B\\nAdditional Information:        The T1189...   \n",
       "\n",
       "                                        all_sequences  \n",
       "0   >7QR4_1|Chain A|U1 small nuclear ribonucleopro...  \n",
       "1   >7QR3_1|Chains A, B|U1 small nuclear ribonucle...  \n",
       "2   >8S95_1|Chain A[auth C]|Lysine tRNA scaffold,P...  \n",
       "3   >8FZA_1|Chains A, B|PreQ1 Riboswitch (30-MER)|...  \n",
       "4   >8TVZ_1|Chain A[auth C]|RNA (363-MER)|syntheti...  \n",
       "5   >8BTZ_1|Chain A|RNA Paranemic croosover triang...  \n",
       "6   >7ZJ4_1|Chain A[auth E]|brocolli-pepper aptame...  \n",
       "7   >7PTK_1|Chain A[auth B]|RNA|synthetic construc...  \n",
       "8   >8UYS_1|Chain A|SARS-CoV-2 RNA SL5 domain.|Sev...  \n",
       "9   >8UYE_1|Chain A|BtCoV-HKU5 5' proximal stem-lo...  \n",
       "10  >7YR7_1|Chains A[auth B], B[auth C], C[auth D]...  \n",
       "11  >7YR6_1|Chains A[auth B], B[auth C], C[auth D]...  "
      ]
     },
     "execution_count": 3,
     "metadata": {},
     "output_type": "execute_result"
    }
   ],
   "source": [
    "# 读取并预处理数据集\n",
    "df = pd.read_csv('test_sequences.csv')\n",
    "df"
   ]
  },
  {
   "cell_type": "code",
   "execution_count": 4,
   "id": "6ef2c12b-2f70-48c7-92e8-24a8beae4345",
   "metadata": {},
   "outputs": [
    {
     "name": "stdout",
     "output_type": "stream",
     "text": [
      "GGGGGCCACAGCAGAAGCGUUCACGUCGCAGCCCCUGUCAGCCAUUGCACUCCGGCUGCGAAUUCUGCU\n",
      "R1107\n"
     ]
    }
   ],
   "source": [
    "print(df[\"sequence\"][0])\n",
    "print(df[\"target_id\"][0])"
   ]
  },
  {
   "cell_type": "code",
   "execution_count": 5,
   "id": "a71138f4-c85a-485a-81f9-17a9e9a171f4",
   "metadata": {},
   "outputs": [
    {
     "data": {
      "text/plain": [
       "GPT2ForSequenceClassification(\n",
       "  (transformer): GPT2Model(\n",
       "    (wte): Embedding(90000, 768)\n",
       "    (wpe): Embedding(1024, 768)\n",
       "    (drop): Dropout(p=0.1, inplace=False)\n",
       "    (h): ModuleList(\n",
       "      (0-11): 12 x GPT2Block(\n",
       "        (ln_1): LayerNorm((768,), eps=1e-05, elementwise_affine=True)\n",
       "        (attn): GPT2SdpaAttention(\n",
       "          (c_attn): Conv1D(nf=2304, nx=768)\n",
       "          (c_proj): Conv1D(nf=768, nx=768)\n",
       "          (attn_dropout): Dropout(p=0.1, inplace=False)\n",
       "          (resid_dropout): Dropout(p=0.1, inplace=False)\n",
       "        )\n",
       "        (ln_2): LayerNorm((768,), eps=1e-05, elementwise_affine=True)\n",
       "        (mlp): GPT2MLP(\n",
       "          (c_fc): Conv1D(nf=3072, nx=768)\n",
       "          (c_proj): Conv1D(nf=768, nx=3072)\n",
       "          (act): NewGELUActivation()\n",
       "          (dropout): Dropout(p=0.1, inplace=False)\n",
       "        )\n",
       "      )\n",
       "    )\n",
       "    (ln_f): LayerNorm((768,), eps=1e-05, elementwise_affine=True)\n",
       "  )\n",
       "  (score): Linear(in_features=768, out_features=3, bias=False)\n",
       ")"
      ]
     },
     "execution_count": 5,
     "metadata": {},
     "output_type": "execute_result"
    }
   ],
   "source": [
    "# 从 Trainer 获取训练好的模型\n",
    "\n",
    "# 检查 GPU 可用性并设置设备\n",
    "device = torch.device(\"cuda\" if torch.cuda.is_available() else \"cpu\")\n",
    "\n",
    "model =  AutoModelForSequenceClassification.from_pretrained(\"dnagpt/gene_eng_gpt2_v0_rna3d_ft\").to(device)\n",
    "tokenizer = AutoTokenizer.from_pretrained(\"dnagpt/gene_eng_gpt2_v0_rna3d_ft\")\n",
    "#model.eval()  # 设置为评估模式\n",
    "\n",
    "# 启用 Dropout（即使在推理时）\n",
    "model.train()  # 注意：这里故意启用训练模式以使用 Dropout"
   ]
  },
  {
   "cell_type": "code",
   "execution_count": 6,
   "id": "fb5968e0-e181-44a6-8765-87db43e9b836",
   "metadata": {},
   "outputs": [
    {
     "data": {
      "text/plain": [
       "array([[17.567984 ,  8.709224 , 31.31544  ],\n",
       "       [27.888119 , 21.530653 , 25.38736  ],\n",
       "       [36.7138   , 45.8906   , 41.238434 ],\n",
       "       [21.81978  ,  8.536008 , 32.578167 ],\n",
       "       [19.48291  ,  4.7223563, 20.45072  ]], dtype=float32)"
      ]
     },
     "execution_count": 6,
     "metadata": {},
     "output_type": "execute_result"
    }
   ],
   "source": [
    "def get_rna_pos_dropout(seq, num_samples=5):\n",
    "    \"\"\"\n",
    "    获得ran序列最后一个残基的三维坐标预测\n",
    "    \"\"\"\n",
    "    # 分词和填充\n",
    "    inputs = tokenizer(seq, truncation=True, padding='max_length', max_length=256, return_tensors=\"pt\")\n",
    "    input_ids = inputs[\"input_ids\"].to(device)  # 移动到 GPU   形状: (1, 256)\n",
    "    attention_mask = inputs[\"attention_mask\"].to(device)  # 移动到 GPU  形状: (1, 256)\n",
    "\n",
    "    # 蒙特卡洛 Dropout 采样\n",
    "    predictions_list = []\n",
    "    \n",
    "    # 启用 Dropout（即使在推理时） model.train()  # 注意：这里故意启用训练模式以使用 Dropout\n",
    "    with torch.no_grad():\n",
    "        for _ in range(num_samples):\n",
    "            outputs = model(input_ids=input_ids, attention_mask=attention_mask)\n",
    "            prediction = outputs.logits.squeeze(0).cpu().numpy()  # (3,)\n",
    "            predictions_list.append(prediction)\n",
    "\n",
    "    # 转换为 numpy 或列表\n",
    "    predictions_array = np.array(predictions_list)  # 形状: (5, 3)\n",
    "\n",
    "    return predictions_array\n",
    "\n",
    "# 示例测试序列\n",
    "test_seq = \"GGCGUAAGGA\"\n",
    "get_rna_pos_dropout(test_seq)"
   ]
  },
  {
   "cell_type": "code",
   "execution_count": 8,
   "id": "dd408950-f1c1-403d-a1ab-17c36333aa4b",
   "metadata": {},
   "outputs": [],
   "source": [
    "def get_rna_all_pos(sequence):\n",
    "    \"\"\"\n",
    "    获得rna每个残基的三维坐标预测\n",
    "    \"\"\"\n",
    "    seq_pos_list_local = []\n",
    "    for i in range(0, len(sequence)):\n",
    "        seq = sequence[0:i+1].replace(\"U\",\"T\") #U-->T\n",
    "        #如果seq长度大于1024则只要最后面的1024个字符\n",
    "        if len(seq) > 1024:\n",
    "            seq = seq[-1024:]\n",
    "        pos = get_rna_pos_dropout(seq).tolist()\n",
    "        #print(seq, pos)\n",
    "        seq_pos_list_local.append(pos)\n",
    "    return seq_pos_list_local\n",
    "\n",
    "# 示例测试序列\n",
    "test_seq = \"GGCGUAAGGA\"\n",
    "ret = get_rna_all_pos(test_seq)"
   ]
  },
  {
   "cell_type": "code",
   "execution_count": 9,
   "id": "908f97a3-c562-4fb4-b7b3-6aa855559974",
   "metadata": {},
   "outputs": [],
   "source": [
    "def get_csv_data(target_id, seq):\n",
    "    \"\"\"\n",
    "    get csv result of seq\n",
    "    \"\"\"\n",
    "    seq_pos_list = get_rna_all_pos(seq)\n",
    "    data_list = []\n",
    "    for index, (res, pos_list) in enumerate(zip(seq, seq_pos_list)):\n",
    "        #print(index, res, pos_list)\n",
    "        data = {\n",
    "            \"ID\":target_id +\"_\" +str(index+1),\n",
    "            \"resname\":res,\n",
    "            \"resid\":str(index+1),\n",
    "            \"x_1\":pos_list[0][0],\n",
    "            \"y_1\":pos_list[0][1],\n",
    "            \"z_1\":pos_list[0][2],\n",
    "            \"x_2\":pos_list[1][0],\n",
    "            \"y_2\":pos_list[1][1],\n",
    "            \"z_2\":pos_list[1][2],\n",
    "            \"x_3\":pos_list[2][0],\n",
    "            \"y_3\":pos_list[2][1],\n",
    "            \"z_3\":pos_list[2][2],\n",
    "            \"x_4\":pos_list[3][0],\n",
    "            \"y_4\":pos_list[3][1],\n",
    "            \"z_4\":pos_list[3][2],\n",
    "            \"x_5\":pos_list[4][0],\n",
    "            \"y_5\":pos_list[4][1],\n",
    "            \"z_5\":pos_list[4][2],\n",
    "        }\n",
    "        data_list.append(data)\n",
    "    return data_list\n",
    "\n",
    "ret = get_csv_data(df[\"target_id\"][0],  df[\"sequence\"][0])"
   ]
  },
  {
   "cell_type": "code",
   "execution_count": 10,
   "id": "60fa2149-db97-4f24-9bb9-93a0ec371d1f",
   "metadata": {},
   "outputs": [
    {
     "name": "stdout",
     "output_type": "stream",
     "text": [
      "predict success!\n"
     ]
    }
   ],
   "source": [
    "csv_data_list = []\n",
    "for target_id,seq in zip(df[\"target_id\"], df[\"sequence\"]):\n",
    "    data_list = get_csv_data(target_id, seq)\n",
    "    csv_data_list.extend(data_list)\n",
    "\n",
    "print(\"predict success!\")"
   ]
  },
  {
   "cell_type": "code",
   "execution_count": 11,
   "id": "ef3b3d83-3dc0-486c-b213-25b4deea6933",
   "metadata": {},
   "outputs": [
    {
     "name": "stdout",
     "output_type": "stream",
     "text": [
      "output success!\n"
     ]
    }
   ],
   "source": [
    "# 将数据列表转换为 DataFrame\n",
    "df = pd.DataFrame(csv_data_list)\n",
    "\n",
    "# 写入 CSV 文件\n",
    "df.to_csv(\"submission.csv\", index=False)\n",
    "\n",
    "print(\"output success!\")"
   ]
  },
  {
   "cell_type": "code",
   "execution_count": null,
   "id": "01169079-b0cb-4280-b807-9ff8a54f0be0",
   "metadata": {},
   "outputs": [],
   "source": []
  }
 ],
 "metadata": {
  "kernelspec": {
   "display_name": "Python 3 (ipykernel)",
   "language": "python",
   "name": "python3"
  },
  "language_info": {
   "codemirror_mode": {
    "name": "ipython",
    "version": 3
   },
   "file_extension": ".py",
   "mimetype": "text/x-python",
   "name": "python",
   "nbconvert_exporter": "python",
   "pygments_lexer": "ipython3",
   "version": "3.12.3"
  }
 },
 "nbformat": 4,
 "nbformat_minor": 5
}
