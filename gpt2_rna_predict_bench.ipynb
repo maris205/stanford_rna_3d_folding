{
 "cells": [
  {
   "cell_type": "code",
   "execution_count": 1,
   "id": "bb07a9ff-463c-4cca-8bb4-486b5b4e7325",
   "metadata": {},
   "outputs": [
    {
     "name": "stdout",
     "output_type": "stream",
     "text": [
      "https://hf-mirror.com\n"
     ]
    }
   ],
   "source": [
    "import os\n",
    "\n",
    "# 设置环境变量\n",
    "os.environ['HF_ENDPOINT'] = 'https://hf-mirror.com'\n",
    "\n",
    "# 打印环境变量以确认设置成功\n",
    "print(os.environ.get('HF_ENDPOINT'))"
   ]
  },
  {
   "cell_type": "code",
   "execution_count": 2,
   "id": "d7a7e3e2-6763-418e-a60b-dd4f2bb33410",
   "metadata": {},
   "outputs": [
    {
     "name": "stderr",
     "output_type": "stream",
     "text": [
      "/home/maris/miniconda3/envs/dnagpt/lib/python3.11/site-packages/tqdm/auto.py:21: TqdmWarning: IProgress not found. Please update jupyter and ipywidgets. See https://ipywidgets.readthedocs.io/en/stable/user_install.html\n",
      "  from .autonotebook import tqdm as notebook_tqdm\n"
     ]
    }
   ],
   "source": [
    "from transformers import AutoTokenizer, AutoModel\n",
    "from tokenizers import Tokenizer\n",
    "from transformers import GPT2LMHeadModel, AutoConfig,GPT2Tokenizer\n",
    "from transformers import AutoModelForSequenceClassification\n",
    "from transformers import DataCollatorWithPadding\n",
    "import torch\n",
    "import numpy as np"
   ]
  },
  {
   "cell_type": "code",
   "execution_count": 3,
   "id": "234e457a-89bd-449e-ae23-a3bbd06edb07",
   "metadata": {},
   "outputs": [
    {
     "data": {
      "text/plain": [
       "GPT2ForSequenceClassification(\n",
       "  (transformer): GPT2Model(\n",
       "    (wte): Embedding(90000, 768)\n",
       "    (wpe): Embedding(1024, 768)\n",
       "    (drop): Dropout(p=0.1, inplace=False)\n",
       "    (h): ModuleList(\n",
       "      (0-11): 12 x GPT2Block(\n",
       "        (ln_1): LayerNorm((768,), eps=1e-05, elementwise_affine=True)\n",
       "        (attn): GPT2SdpaAttention(\n",
       "          (c_attn): Conv1D(nf=2304, nx=768)\n",
       "          (c_proj): Conv1D(nf=768, nx=768)\n",
       "          (attn_dropout): Dropout(p=0.1, inplace=False)\n",
       "          (resid_dropout): Dropout(p=0.1, inplace=False)\n",
       "        )\n",
       "        (ln_2): LayerNorm((768,), eps=1e-05, elementwise_affine=True)\n",
       "        (mlp): GPT2MLP(\n",
       "          (c_fc): Conv1D(nf=3072, nx=768)\n",
       "          (c_proj): Conv1D(nf=768, nx=3072)\n",
       "          (act): NewGELUActivation()\n",
       "          (dropout): Dropout(p=0.1, inplace=False)\n",
       "        )\n",
       "      )\n",
       "    )\n",
       "    (ln_f): LayerNorm((768,), eps=1e-05, elementwise_affine=True)\n",
       "  )\n",
       "  (score): Linear(in_features=768, out_features=3, bias=False)\n",
       ")"
      ]
     },
     "execution_count": 3,
     "metadata": {},
     "output_type": "execute_result"
    }
   ],
   "source": [
    "# 从 Trainer 获取训练好的模型\n",
    "\n",
    "# 检查 GPU 可用性并设置设备\n",
    "device = torch.device(\"cuda\" if torch.cuda.is_available() else \"cpu\")\n",
    "\n",
    "model =  AutoModelForSequenceClassification.from_pretrained(\"gene_eng_gpt2_v0_rna3d_ft\").to(device)\n",
    "tokenizer = AutoTokenizer.from_pretrained(\"gene_eng_gpt2_v0_rna3d_ft\")\n",
    "model.eval()  # 设置为评估模式"
   ]
  },
  {
   "cell_type": "code",
   "execution_count": 4,
   "id": "d8303df2-9b41-4a23-a0cb-3fdc1d794c0b",
   "metadata": {},
   "outputs": [],
   "source": [
    "def get_rna_pos(seq):\n",
    "    \"\"\"\n",
    "    获得ran序列最后一个残基的三维坐标预测\n",
    "    \"\"\"\n",
    "    # 分词和填充\n",
    "    inputs = tokenizer(seq, truncation=True, padding='max_length', max_length=256, return_tensors=\"pt\")\n",
    "    input_ids = inputs[\"input_ids\"].to(device)  # 移动到 GPU   形状: (1, 256)\n",
    "    attention_mask = inputs[\"attention_mask\"].to(device)  # 移动到 GPU  形状: (1, 256)\n",
    "    \n",
    "    # 推理\n",
    "    with torch.no_grad():\n",
    "        outputs = model(input_ids=input_ids, attention_mask=attention_mask)\n",
    "        predictions = outputs.logits  # 形状: (1, 3)\n",
    "    \n",
    "    # 转换为 numpy 或列表\n",
    "    predictions = predictions.squeeze(0).cpu().numpy().tolist()  # 从 GPU 移回 CPU 并转为 NumPy  ， [x, y, z]\n",
    "    return predictions"
   ]
  },
  {
   "cell_type": "code",
   "execution_count": 9,
   "id": "e7eab4bf-87d8-4fcb-bf0f-c21a293191c6",
   "metadata": {},
   "outputs": [],
   "source": [
    "def get_rna_all_pos(sequence):\n",
    "    \"\"\"\n",
    "    获得rna每个残基的三维坐标预测\n",
    "    \"\"\"\n",
    "    seq_pos_list_local = []\n",
    "    for i in range(0, len(sequence)):\n",
    "        seq = sequence[0:i+1].replace(\"U\",\"T\") #U-->T\n",
    "        #如果seq长度大于1024则只要最后面的1024个字符\n",
    "        if len(seq) > 1024:\n",
    "            seq = seq[-1024:]\n",
    "        pos = get_rna_pos(seq)\n",
    "        #print(seq, pos)\n",
    "        seq_pos_list_local.append(pos)\n",
    "    return seq_pos_list_local"
   ]
  },
  {
   "cell_type": "code",
   "execution_count": 13,
   "id": "586fe0be-94f9-402d-8d52-b8df0421b334",
   "metadata": {},
   "outputs": [],
   "source": [
    "import numpy as np\n",
    "from scipy.spatial import distance\n",
    "from scipy.spatial.transform import Rotation\n",
    "\n",
    "def get_d0(Lref):\n",
    "    \"\"\"\n",
    "    get distance scaling factor in Angstroms\n",
    "    \"\"\"\n",
    "    if Lref >= 30:\n",
    "        return  0.6 * np.sqrt(Lref - 0.5) - 2.5\n",
    "    elif 24 <= Lref < 30:\n",
    "        return 0.7\n",
    "    elif 20 <= Lref < 24:\n",
    "        return 0.6\n",
    "    elif 16 <= Lref < 20:\n",
    "        return 0.5\n",
    "    elif 12 <= Lref < 16:\n",
    "        return 0.4\n",
    "    else:  # Lref < 12\n",
    "        return 0.3\n",
    "\n",
    "\n",
    "def compute_tm_score(pos_predict_list, pos_truth_list):\n",
    "    \"\"\"\n",
    "    计算 TM-score，用于评估预测的 RNA 3D 结构与真实结构的相似度。\n",
    "    \n",
    "    参数:\n",
    "    pos_predict_list (list of lists): 预测的残基坐标，格式为 [[x1, y1, z1], [x2, y2, z2], ...]\n",
    "    pos_truth_list (list of lists): 真实的残基坐标，格式为 [[x1, y1, z1], [x2, y2, z2], ...]\n",
    "    \n",
    "    返回:\n",
    "    float: TM-score 值，范围通常在 0 到 1 之间，1 表示完全一致\n",
    "    \"\"\"\n",
    "    # 转换为 NumPy 数组\n",
    "    pos_predict = np.array(pos_predict_list)\n",
    "    pos_truth = np.array(pos_truth_list)\n",
    "    \n",
    "    # 检查长度是否一致\n",
    "    if pos_predict.shape != pos_truth.shape:\n",
    "        raise ValueError(\"预测和真实坐标列表的长度必须一致\")\n",
    "    \n",
    "    L_ref = len(pos_truth)  # 参考结构的残基数\n",
    "    \n",
    "    # 质心对齐：将两组坐标平移到原点\n",
    "    centroid_predict = np.mean(pos_predict, axis=0)\n",
    "    centroid_truth = np.mean(pos_truth, axis=0)\n",
    "    pos_predict_centered = pos_predict - centroid_predict\n",
    "    pos_truth_centered = pos_truth - centroid_truth\n",
    "    \n",
    "    # Kabsch 算法：计算旋转矩阵以对齐预测结构\n",
    "    covariance_matrix = np.dot(pos_predict_centered.T, pos_truth_centered)\n",
    "    U, _, Vt = np.linalg.svd(covariance_matrix)\n",
    "    rotation_matrix = np.dot(Vt.T, U.T)\n",
    "    # 确保旋转矩阵的行列式为正（避免镜像对齐）\n",
    "    if np.linalg.det(rotation_matrix) < 0:\n",
    "        Vt[-1, :] *= -1\n",
    "        rotation_matrix = np.dot(Vt.T, U.T)\n",
    "    pos_predict_aligned = np.dot(pos_predict_centered, rotation_matrix)\n",
    "    \n",
    "    # 计算对齐后每对残基的欧几里得距离\n",
    "    d_i = np.linalg.norm(pos_predict_aligned - pos_truth_centered, axis=1)\n",
    "    \n",
    "    # 计算 d_0（缩放因子）\n",
    "    d0 = get_d0(L_ref)  # 对于较短的序列，简化处理\n",
    "    \n",
    "    # 计算 TM-score\n",
    "    tm_score = (1 / L_ref) * np.sum(1 / (1 + (d_i / d0)**2))\n",
    "    \n",
    "    return tm_score\n",
    "\n",
    "\n",
    "def get_eva(seq, pos_list_gt):\n",
    "    \"\"\"\n",
    "    获得rna 3d预测评分\n",
    "    seq：rna序列\n",
    "    pos_list: ran序列每个残基的位置坐标list\n",
    "    \"\"\"\n",
    "    #获得每个残基预测坐标\n",
    "    pos_list_predict = get_rna_all_pos(seq)\n",
    "\n",
    "    #获得评分\n",
    "    tm_score = compute_tm_score(pos_list_predict, pos_list_gt)\n",
    "\n",
    "    return tm_score"
   ]
  },
  {
   "cell_type": "code",
   "execution_count": 14,
   "id": "e79cb92d-8aa5-43a8-96b4-d462b4076847",
   "metadata": {},
   "outputs": [
    {
     "data": {
      "text/plain": [
       "DatasetDict({\n",
       "    train: Dataset({\n",
       "        features: ['seq', 'pos_list'],\n",
       "        num_rows: 12\n",
       "    })\n",
       "})"
      ]
     },
     "execution_count": 14,
     "metadata": {},
     "output_type": "execute_result"
    }
   ],
   "source": [
    "#查看距离\n",
    "from datasets import load_dataset\n",
    "# 1. load ~11k samples from promoters prediction dataset\n",
    "dataset = load_dataset(\"json\", data_files=\"rna_pos_all_test.jsonl\")\n",
    "dataset"
   ]
  },
  {
   "cell_type": "code",
   "execution_count": 15,
   "id": "a3b5a586-3681-4824-8fe1-c75e3d59059e",
   "metadata": {},
   "outputs": [
    {
     "data": {
      "text/plain": [
       "0.011943309635017758"
      ]
     },
     "execution_count": 15,
     "metadata": {},
     "output_type": "execute_result"
    }
   ],
   "source": [
    "item = dataset[\"train\"][0]\n",
    "seq = item[\"seq\"]\n",
    "pos_list_gt = item[\"pos_list\"]\n",
    "get_eva(seq, pos_list_gt)"
   ]
  },
  {
   "cell_type": "code",
   "execution_count": 16,
   "id": "72300e81-6cb4-4375-949b-7c06622cb957",
   "metadata": {},
   "outputs": [],
   "source": [
    "eva_list = []\n",
    "for item in dataset[\"train\"]:\n",
    "    seq = item[\"seq\"]\n",
    "    pos_list_gt = item[\"pos_list\"]\n",
    "    eva = get_eva(seq, pos_list_gt)\n",
    "    #print(eva)\n",
    "    eva_list.append(eva)"
   ]
  },
  {
   "cell_type": "code",
   "execution_count": 17,
   "id": "c0d0beba-56e5-4c74-8f43-8dc9a93f8aa2",
   "metadata": {},
   "outputs": [
    {
     "name": "stdout",
     "output_type": "stream",
     "text": [
      "平均值: 0.1336094835798191\n"
     ]
    }
   ],
   "source": [
    "import numpy as np\n",
    "# 计算平均值\n",
    "average = np.mean(eva_list)\n",
    "print(\"平均值:\", average)"
   ]
  },
  {
   "cell_type": "code",
   "execution_count": 18,
   "id": "42ecaebb-e668-42ef-ad9a-8cefe768eda2",
   "metadata": {},
   "outputs": [
    {
     "data": {
      "text/plain": [
       "[0.011943309635017758,\n",
       " 0.01846775457298123,\n",
       " 1.5831164338617964e-33,\n",
       " 9.39129826446217e-36,\n",
       " 0.3337100659504432,\n",
       " 0.30910811204256333,\n",
       " 0.017259134945893786,\n",
       " 0.5009053766509648,\n",
       " 0.048660292726138914,\n",
       " 0.14083365863433844,\n",
       " 0.10399353708952036,\n",
       " 0.1184325607099676]"
      ]
     },
     "execution_count": 18,
     "metadata": {},
     "output_type": "execute_result"
    }
   ],
   "source": [
    "eva_list"
   ]
  },
  {
   "cell_type": "code",
   "execution_count": null,
   "id": "6505ea20-68fb-40a3-9cdc-3ea1155190de",
   "metadata": {},
   "outputs": [],
   "source": []
  }
 ],
 "metadata": {
  "kernelspec": {
   "display_name": "Python 3 (ipykernel)",
   "language": "python",
   "name": "python3"
  },
  "language_info": {
   "codemirror_mode": {
    "name": "ipython",
    "version": 3
   },
   "file_extension": ".py",
   "mimetype": "text/x-python",
   "name": "python",
   "nbconvert_exporter": "python",
   "pygments_lexer": "ipython3",
   "version": "3.11.9"
  }
 },
 "nbformat": 4,
 "nbformat_minor": 5
}
